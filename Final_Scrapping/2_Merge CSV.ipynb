{
 "cells": [
  {
   "cell_type": "code",
   "execution_count": 3,
   "id": "42a335b0-2424-40a5-9984-41ef1254fa55",
   "metadata": {},
   "outputs": [
    {
     "name": "stdout",
     "output_type": "stream",
     "text": [
      "Merged dataset saved as 'merged5_imdb_2024.csv'\n"
     ]
    }
   ],
   "source": [
    "import os\n",
    "import pandas as pd\n",
    "\n",
    "# Path to genre CSVs created in Script 1\n",
    "csv_folder = r\"C:\\Users\\mugil\\Project_imdb\\Final Scrapping\"\n",
    "\n",
    "# Read all CSV files in the folder\n",
    "all_csvs = [os.path.join(csv_folder, f) for f in os.listdir(csv_folder) if f.endswith(\".csv\")]\n",
    "\n",
    "combined_df = pd.DataFrame()\n",
    "\n",
    "# Merge them all into one DataFrame\n",
    "for csv_file in all_csvs:\n",
    "    df = pd.read_csv(csv_file)\n",
    "    combined_df = pd.concat([combined_df, df], ignore_index=True)\n",
    "\n",
    "# Optional: Remove duplicates based on 'Title' and 'Genre' to keep multi-genre movies\n",
    "combined_df.drop_duplicates(subset=[\"Title\", \"Genre\"], inplace=True)\n",
    "\n",
    "# Save merged dataset\n",
    "combined_df.to_csv(\"merged5_imdb_2024.csv\", index=False)\n",
    "print(\"Merged dataset saved as 'merged5_imdb_2024.csv'\")\n"
   ]
  }
 ],
 "metadata": {
  "kernelspec": {
   "display_name": "Python [conda env:base] *",
   "language": "python",
   "name": "conda-base-py"
  },
  "language_info": {
   "codemirror_mode": {
    "name": "ipython",
    "version": 3
   },
   "file_extension": ".py",
   "mimetype": "text/x-python",
   "name": "python",
   "nbconvert_exporter": "python",
   "pygments_lexer": "ipython3",
   "version": "3.12.7"
  }
 },
 "nbformat": 4,
 "nbformat_minor": 5
}
